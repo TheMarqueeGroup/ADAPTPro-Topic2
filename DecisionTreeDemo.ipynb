{
 "cells": [
  {
   "cell_type": "markdown",
   "id": "5c500a11-b05f-4ce6-a5d9-194fd5bfffb1",
   "metadata": {},
   "source": [
    "# Simple Decision Tree Example"
   ]
  },
  {
   "cell_type": "code",
   "execution_count": 1,
   "id": "39082816-0d1d-46cc-88f3-825dd8e691d5",
   "metadata": {
    "tags": []
   },
   "outputs": [],
   "source": [
    "import os\n",
    "import numpy as np\n",
    "import pandas as pd\n",
    "import matplotlib.pyplot as plt\n",
    "import seaborn as sns\n",
    "from sklearn import tree #used to visualize the decision tree\n",
    "from sklearn.metrics import confusion_matrix\n",
    "from sklearn.metrics import classification_report\n",
    "from sklearn.metrics import roc_curve, auc\n",
    "# print(os.getcwd())\n",
    "\n",
    "#packages needed to display the trees in older versions of sklearn\n",
    "from IPython.display import display\n",
    "import graphviz"
   ]
  },
  {
   "cell_type": "code",
   "execution_count": 2,
   "id": "c7a0c660-e242-41c0-97dc-11a591f24878",
   "metadata": {
    "tags": []
   },
   "outputs": [],
   "source": [
    "cos = ['A','B','C','D','E','F','G','H','I', 'J','K','L','M','N','O','P','Q', 'R']\n",
    "d_ebitda = [4.5, 6.0, 3.75, 4, 1.0, 0.5, 1, 6, 7, 5, 3.5, 4.5, 5.5, 6.0, 4.0, 6.5, 1.5, 1.5]\n",
    "sales_growth = [15, 10, 12, 11, 15, 60, 35, -1, -2, 0, 2, 0, 2, 2.5, 2.5, -5, 5, 1]\n",
    "margins = [60, 80, 60, 40, 15, 10, 0, 15, 20, 5, 80, 90, 65, 15, 15, 30, 30, 20]\n",
    "decision = ['Buy','Buy','Buy','Buy','Buy','Buy','Sell','Sell','Sell','Sell','Buy','Buy','Buy','Sell','Buy','Sell','Buy','Sell']\n",
    "df = pd.DataFrame({'Company':cos,'D/EBITDA':d_ebitda,'Sales YoY':sales_growth,'EBITDA Margin':margins,\n",
    "                   'Action':decision})\n",
    "df['Target'] = df['Action'].apply(lambda x: 1 if x=='Buy' else 0)\n",
    "df"
   ]
  },
  {
   "cell_type": "markdown",
   "id": "a9fa138d-af07-4a4a-a5e3-1db3d576f7f2",
   "metadata": {},
   "source": [
    "## Decision Tree"
   ]
  },
  {
   "cell_type": "code",
   "execution_count": 3,
   "id": "5b1f1348-559e-4cd8-96a3-5286f0a5b853",
   "metadata": {
    "tags": []
   },
   "outputs": [],
   "source": [
    "clf = tree.DecisionTreeClassifier(random_state=0)\n",
    "X = df[['D/EBITDA','Sales YoY','EBITDA Margin']]\n",
    "y = df['Target']\n",
    "clf.fit(X, y)"
   ]
  },
  {
   "cell_type": "code",
   "execution_count": 4,
   "id": "19da7bcd-532c-4c44-a0a9-6892c91b4a80",
   "metadata": {
    "tags": []
   },
   "outputs": [],
   "source": [
    "df['Predictions'] = clf.predict(X)\n",
    "df"
   ]
  },
  {
   "cell_type": "code",
   "execution_count": 5,
   "id": "e5470287-5f98-4cbc-b754-b7d8a497be08",
   "metadata": {
    "tags": []
   },
   "outputs": [],
   "source": [
    "display(graphviz.Source(tree.export_graphviz(clf, feature_names=X.columns)))"
   ]
  },
  {
   "cell_type": "markdown",
   "id": "e825da7d-5cb1-444c-aa7f-4199b2e457b9",
   "metadata": {},
   "source": [
    "## Reduce Complexity"
   ]
  },
  {
   "cell_type": "code",
   "execution_count": 8,
   "id": "3ddf32a6-7b57-4a6b-92f4-4f17a80ad9c4",
   "metadata": {
    "tags": []
   },
   "outputs": [],
   "source": [
    "clf = tree.DecisionTreeClassifier(random_state=0, max_depth=2)  # clf for classifier\n",
    "clf.fit(X, y)"
   ]
  },
  {
   "cell_type": "code",
   "execution_count": 9,
   "id": "d1cce249-210d-4fe4-897b-ac46f28df926",
   "metadata": {
    "tags": []
   },
   "outputs": [],
   "source": [
    "display(graphviz.Source(tree.export_graphviz(clf, feature_names=X.columns)))"
   ]
  },
  {
   "cell_type": "code",
   "execution_count": 90,
   "id": "4328cf8f-8640-4144-9ff1-e8714a7f511d",
   "metadata": {
    "tags": []
   },
   "outputs": [],
   "source": [
    "df['Predict 2'] = clf.predict(X)\n",
    "df"
   ]
  },
  {
   "cell_type": "code",
   "execution_count": 91,
   "id": "f7c023ed-4750-4e2a-ae35-9a9bf0c447d9",
   "metadata": {
    "tags": []
   },
   "outputs": [],
   "source": [
    "print(classification_report(y, clf.predict(X)))"
   ]
  },
  {
   "cell_type": "code",
   "execution_count": 92,
   "id": "51b6c0df-a93c-4c70-9bae-4c0c1ff7bd75",
   "metadata": {
    "tags": []
   },
   "outputs": [],
   "source": [
    "confusion_matrix(y, clf.predict(X))  "
   ]
  }
 ],
 "metadata": {
  "header": "# Id:          $Id: $\n# Copyright:   2023 J.P. Morgan Chase & Co. Incorporated.  All rights reserved.\n# Type:        research\n# Group:       AthenaAnalystTraining\n# Flags:       py3\n# Description: Jupyter notebook created by bogdan.tudose\n\n",
  "kernelspec": {
   "display_name": "Athena 3.7",
   "language": "python",
   "name": "athena_py3"
  },
  "language_info": {
   "codemirror_mode": {
    "name": "ipython",
    "version": 3
   },
   "file_extension": ".py",
   "mimetype": "text/x-python",
   "name": "python",
   "nbconvert_exporter": "python",
   "pygments_lexer": "ipython3",
   "version": "3.7.9"
  }
 },
 "nbformat": 4,
 "nbformat_minor": 5
}