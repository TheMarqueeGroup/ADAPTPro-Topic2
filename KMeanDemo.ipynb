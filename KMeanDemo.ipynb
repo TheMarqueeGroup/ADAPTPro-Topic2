{
 "cells": [
  {
   "cell_type": "markdown",
   "id": "3b61e159-5a93-493e-a601-29df227fac8f",
   "metadata": {},
   "source": [
    "# Simple K-Mean Example\n",
    "Below is a simpler example of K-Mean clustering to show intuition behind the algorithm."
   ]
  },
  {
   "cell_type": "markdown",
   "id": "7a8ac70c-8795-4257-b75f-e0c789a2a2c9",
   "metadata": {},
   "source": [
    "## Import Packages"
   ]
  },
  {
   "cell_type": "code",
   "execution_count": 1,
   "id": "c0e82208-95bd-4463-8710-a33437a2d6c3",
   "metadata": {
    "tags": []
   },
   "outputs": [],
   "source": [
    "import pandas as pd\n",
    "import numpy as np\n",
    "import matplotlib.pyplot as plt\n",
    "import seaborn as sns\n",
    "import plotly.express as px #viz package for interactive charts\n",
    "from sklearn.cluster import KMeans"
   ]
  },
  {
   "cell_type": "markdown",
   "id": "70d50684-69ae-4252-a27e-72d35be12b25",
   "metadata": {},
   "source": [
    "## Dummy Data Set\n",
    "- below are 10 simulated companies with their D/EBITDA, Sales YoY Growth rates and EBITDA Margins\n",
    "- see if you can figure out what the \"groupings\" should be, before running K-Means algorithm\n",
    "- now imagine you had thousands companies you have to categorize"
   ]
  },
  {
   "cell_type": "code",
   "execution_count": 2,
   "id": "bc9ce832-3b84-4d2e-b0e5-b35433efca10",
   "metadata": {
    "tags": []
   },
   "outputs": [],
   "source": [
    "cos = ['A','B','C','D','E','F','G','H','I', 'J']\n",
    "d_ebitda = [4.5, 5, 3.75, 4, 1.0, 0.5, 0, 6, 7, 6.5]\n",
    "sales_growth = [15, 10, 12, 11, 40, 60, 35, -1, -2, 0]\n",
    "margins = [60, 80, 60, 40, 15, 10, 0, 15, 20, 5]"
   ]
  },
  {
   "cell_type": "code",
   "execution_count": 3,
   "id": "caf5e681-e11f-4794-8a0f-3bb9ddfea67e",
   "metadata": {
    "tags": []
   },
   "outputs": [],
   "source": [
    "df = pd.DataFrame({'Company':cos,'D/EBITDA':d_ebitda,'Sales YoY':sales_growth,'EBITDA Margin':margins})"
   ]
  },
  {
   "cell_type": "code",
   "execution_count": 4,
   "id": "35fba8ef-04f0-4bfe-8097-83c4f8ce0dbe",
   "metadata": {
    "tags": []
   },
   "outputs": [],
   "source": [
    "df"
   ]
  },
  {
   "cell_type": "code",
   "execution_count": 5,
   "id": "bebce9c2-02c0-42ef-a779-d3682ac0b6a9",
   "metadata": {
    "tags": []
   },
   "outputs": [],
   "source": [
    "#Quick Visualizations\n",
    "df.plot(x='D/EBITDA',y='Sales YoY', kind='scatter')\n",
    "df.plot(x='D/EBITDA',y='EBITDA Margin', kind='scatter')\n",
    "df.plot(x='Sales YoY',y='EBITDA Margin', kind='scatter')"
   ]
  },
  {
   "cell_type": "code",
   "execution_count": 6,
   "id": "4a7e5526-6a2d-458f-bc02-a3f74ffed0b4",
   "metadata": {
    "tags": []
   },
   "outputs": [],
   "source": [
    "sns.pairplot(df) #shows scatter permutations between all columns"
   ]
  },
  {
   "cell_type": "markdown",
   "id": "a17251fd-1f17-46e0-9946-4b67b54aef1b",
   "metadata": {},
   "source": [
    "## K-Means Cluster - Finding Optimal # of Clusters\n",
    "- based on graphs above how many \"groups\" or clusters do you think you will need?\n",
    "- what if it's not as easy to determine?\n",
    "- we can use \"Elbow Curve\" to find optimal number"
   ]
  },
  {
   "cell_type": "code",
   "execution_count": 7,
   "id": "1a851af4-a810-4b48-ba46-b380bd782c49",
   "metadata": {
    "tags": []
   },
   "outputs": [],
   "source": [
    "# X = df[['D/EBITDA','Sales YoY']]\n",
    "X = df[['EBITDA Margin','D/EBITDA','Sales YoY']]"
   ]
  },
  {
   "cell_type": "code",
   "execution_count": 8,
   "id": "4145caf4-b7f3-4246-9198-7364f8a9088c",
   "metadata": {
    "tags": []
   },
   "outputs": [],
   "source": [
    "sse = []\n",
    "for k in range(1,11): #number of clusters\n",
    "    kmeans = KMeans(n_clusters = k)\n",
    "    kmeans.fit(X)\n",
    "    \n",
    "    sse.append(kmeans.inertia_)\n",
    "\n",
    "#Quick plot of Elbow Curve\n",
    "plt.plot(range(1,len(sse)+1), sse)\n",
    "plt.title(\"Elbow Curve\")\n",
    "plt.xlabel('Number of Clusters')\n",
    "plt.ylabel('SSE')\n",
    "plt.show()"
   ]
  },
  {
   "cell_type": "markdown",
   "id": "1921a645-ff55-41f0-beb4-20918bb42809",
   "metadata": {},
   "source": [
    "It looks like 3 clusters is the right amount."
   ]
  },
  {
   "cell_type": "markdown",
   "id": "5ff6e0c8-8f6c-4199-8368-1a5e70b95873",
   "metadata": {},
   "source": [
    "## K-Means - Running Optimal # of Clusters"
   ]
  },
  {
   "cell_type": "code",
   "execution_count": 9,
   "id": "68fcae20-7a49-49ad-95fc-8180a8a842d0",
   "metadata": {
    "tags": []
   },
   "outputs": [],
   "source": [
    "kmeans = KMeans(n_clusters = 3)\n",
    "kmeans.fit(X)"
   ]
  },
  {
   "cell_type": "code",
   "execution_count": 10,
   "id": "4287d06e-7352-4c0c-8d30-5f040bb27a52",
   "metadata": {
    "tags": []
   },
   "outputs": [],
   "source": [
    "X.head()"
   ]
  },
  {
   "cell_type": "markdown",
   "id": "8c1083bb-0e47-4ee1-8a1c-26c7f8ad9502",
   "metadata": {},
   "source": [
    "## K-Means - Useful outputs\n",
    "- centroids - these are the centers of the clusters: `kmeans.cluster_centers_`\n",
    "- labels - these are the determined category numbers: `kmeans.labels_`"
   ]
  },
  {
   "cell_type": "code",
   "execution_count": 11,
   "id": "c43cf3aa-bec3-482d-bfe7-585ebcb255d1",
   "metadata": {
    "tags": []
   },
   "outputs": [],
   "source": [
    "kmeans = KMeans(n_clusters = 3).fit(X)\n",
    "centroids = kmeans.cluster_centers_\n",
    "centroids"
   ]
  },
  {
   "cell_type": "code",
   "execution_count": 12,
   "id": "fc547a16-5196-4949-a5d5-f4759bfabb2d",
   "metadata": {
    "tags": []
   },
   "outputs": [],
   "source": [
    "centroids_df = pd.DataFrame(centroids)\n",
    "# centroids_df.columns = X.columns\n",
    "# cenrtoids_df\n",
    "centroids_df.columns = X.columns\n",
    "centroids_df"
   ]
  },
  {
   "cell_type": "code",
   "execution_count": 13,
   "id": "7e3bf772-1afc-474c-a2e3-022c59c650b1",
   "metadata": {
    "tags": []
   },
   "outputs": [],
   "source": [
    "kmeans.labels_"
   ]
  },
  {
   "cell_type": "code",
   "execution_count": 14,
   "id": "bb27015c-76cc-4d79-b33b-b8e57487e00a",
   "metadata": {
    "tags": []
   },
   "outputs": [],
   "source": [
    "df['Category'] = kmeans.labels_\n",
    "df"
   ]
  },
  {
   "cell_type": "code",
   "execution_count": 15,
   "id": "987325a5-872e-4afb-a57a-8e39c22600f5",
   "metadata": {
    "tags": []
   },
   "outputs": [],
   "source": [
    "x = 'EBITDA Margin'\n",
    "y = 'D/EBITDA'\n",
    "# plt.scatter(centroids[:,0], centroids[:,1], c = 'black', marker='x')\n",
    "plt.scatter(centroids_df[x], centroids_df[y], c = 'black', marker='x')\n",
    "plt.scatter(df[x], df[y], c = kmeans.labels_, cmap =\"rainbow\") \n",
    "        # https://matplotlib.org/stable/tutorials/colors/colormaps.html\n",
    "plt.xlabel(x)\n",
    "plt.ylabel(y)\n",
    "plt.show()"
   ]
  },
  {
   "cell_type": "code",
   "execution_count": null,
   "id": "f133e89d-7393-4309-a28a-0f02d5d9ff90",
   "metadata": {},
   "outputs": [],
   "source": []
  }
 ],
 "metadata": {
  "header": "# Id:          $Id: $\n# Copyright:   2023 J.P. Morgan Chase & Co. Incorporated.  All rights reserved.\n# Type:        research\n# Group:       AthenaAnalystTraining\n# Flags:       py3\n# Description: Jupyter notebook created by bogdan.tudose\n\n",
  "kernelspec": {
   "display_name": "Athena 3.7",
   "language": "python",
   "name": "athena_py3"
  },
  "language_info": {
   "codemirror_mode": {
    "name": "ipython",
    "version": 3
   },
   "file_extension": ".py",
   "mimetype": "text/x-python",
   "name": "python",
   "nbconvert_exporter": "python",
   "pygments_lexer": "ipython3",
   "version": "3.7.9"
  }
 },
 "nbformat": 4,
 "nbformat_minor": 5
}