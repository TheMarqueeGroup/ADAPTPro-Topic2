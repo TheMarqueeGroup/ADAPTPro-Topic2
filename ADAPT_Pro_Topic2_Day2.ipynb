{
 "cells": [
  {
   "cell_type": "markdown",
   "id": "65a65042-8140-494e-a269-5b0b78fc303e",
   "metadata": {},
   "source": [
    "# ADAPT Pro - Topic 2 - Financial Analysis with Python"
   ]
  },
  {
   "cell_type": "markdown",
   "id": "77ca42c4-417f-45ac-967f-45891eda7461",
   "metadata": {},
   "source": [
    "**Before we get Started**\n",
    "\n",
    "- materials also on github: https://github.com/TheMarqueeGroup/ADAPTPro-Topic2/\n",
    "- run the getting started file:\n",
    "    - launch jupyter: `go/jupyter`\n",
    "    - `jupyter/notebooks/lob/core/ADAPT/GettingStarted.ipynb`\n",
    "- demo codes located in: `jupyter/notebooks/lob/core/ADAPT_Pro/FinAnalysis/`\n"
   ]
  },
  {
   "cell_type": "markdown",
   "id": "ea59a06b-7c3f-49cb-9a05-88b39f088257",
   "metadata": {},
   "source": [
    "**Agenda Today**\n",
    "- K-Mean Demo - unsupervised learning\n",
    "- Decision Trees - supervised\n",
    "- Portfolio Optimization"
   ]
  },
  {
   "cell_type": "markdown",
   "id": "71a6c2f5-3326-4c82-a401-ff5524970233",
   "metadata": {},
   "source": [
    "## K-Mean Demo\n",
    "- demo located: `~bogdan.tudose/python;rps:/jupyter/notebooks/lob/core/ADAPT_Pro/FinAnalysis/KMeanDemo.ipynb`"
   ]
  },
  {
   "cell_type": "markdown",
   "id": "6126b18b-a2f0-4501-813f-06bdcb46a373",
   "metadata": {},
   "source": [
    "### Import packages"
   ]
  },
  {
   "cell_type": "code",
   "execution_count": 1,
   "id": "5c16d0b6-e6c0-425d-b500-5cb723a737e0",
   "metadata": {
    "tags": []
   },
   "outputs": [],
   "source": [
    "import pandas as pd\n",
    "import numpy as np\n",
    "import matplotlib.pyplot as plt\n",
    "import seaborn as sns\n",
    "import plotly.express as px #viz package for interactive charts\n",
    "\n",
    "from sklearn.cluster import KMeans #ML Algo"
   ]
  },
  {
   "cell_type": "markdown",
   "id": "409144d1-9833-417f-be3c-0eb83da2979f",
   "metadata": {},
   "source": [
    "### Dummy Data - Companies with different Debt, Margin, Sales Growth"
   ]
  },
  {
   "cell_type": "code",
   "execution_count": 2,
   "id": "4804058e-d7b2-4a6c-97d0-b34c2fb94f59",
   "metadata": {
    "tags": []
   },
   "outputs": [],
   "source": [
    "cos = ['A','B','C','D','E','F','G','H','I', 'J']\n",
    "d_ebitda = [4.5, 5, 3.75, 4, 1.0, 0.5, 0, 6, 7, 6.5]\n",
    "sales_growth = [15, 10, 12, 11, 40, 60, 35, -1, -2, 0]\n",
    "margins = [60, 80, 60, 40, 15, 10, 0, 15, 20, 5]\n",
    "\n",
    "df = pd.DataFrame({'Company':cos,'D/EBITDA':d_ebitda,'Sales YoY':sales_growth,'EBITDA Margin':margins})\n",
    "df"
   ]
  },
  {
   "cell_type": "code",
   "execution_count": 3,
   "id": "af1da09d-490f-40d5-b1f6-6a4744539895",
   "metadata": {
    "collapsed": true,
    "jupyter": {
     "outputs_hidden": true
    },
    "tags": []
   },
   "outputs": [],
   "source": [
    "#Quick Visualizations\n",
    "df.plot(x='D/EBITDA',y='Sales YoY', kind='scatter')\n",
    "df.plot(x='D/EBITDA',y='EBITDA Margin', kind='scatter')\n",
    "df.plot(x='Sales YoY',y='EBITDA Margin', kind='scatter')"
   ]
  },
  {
   "cell_type": "code",
   "execution_count": 4,
   "id": "ef83d4f4-ee8b-4988-8ef9-067c60186823",
   "metadata": {
    "tags": []
   },
   "outputs": [],
   "source": [
    "sns.pairplot(df) #shows scatter permutations between all columns"
   ]
  },
  {
   "cell_type": "code",
   "execution_count": 6,
   "id": "7db9851d-c07c-44c9-bbf8-ad52bc3d173c",
   "metadata": {
    "tags": []
   },
   "outputs": [],
   "source": [
    "X = df[['EBITDA Margin','D/EBITDA','Sales YoY']]"
   ]
  },
  {
   "cell_type": "code",
   "execution_count": 7,
   "id": "7d17d3d3-4fc1-44f6-b405-0fadb7914a5d",
   "metadata": {
    "tags": []
   },
   "outputs": [],
   "source": [
    "sse = []\n",
    "for k in range(1,11): #number of clusters\n",
    "    kmeans = KMeans(n_clusters = k)\n",
    "    kmeans.fit(X)\n",
    "    \n",
    "    sse.append(kmeans.inertia_)\n",
    "\n",
    "#Quick plot of Elbow Curve\n",
    "plt.plot(range(1,len(sse)+1), sse)\n",
    "plt.title(\"Elbow Curve\")\n",
    "plt.xlabel('Number of Clusters')\n",
    "plt.ylabel('SSE')\n",
    "plt.show()"
   ]
  },
  {
   "cell_type": "markdown",
   "id": "d1a388fe-0251-446a-8cfc-b1923cb5419f",
   "metadata": {},
   "source": [
    "### Run the K-Means Algo with Optimal k=3"
   ]
  },
  {
   "cell_type": "code",
   "execution_count": 14,
   "id": "7ffa7598-5f74-45f1-be10-f74cb5ea9dfc",
   "metadata": {
    "tags": []
   },
   "outputs": [],
   "source": [
    "kmeans = KMeans(n_clusters = 3)\n",
    "kmeans.fit(X)"
   ]
  },
  {
   "cell_type": "code",
   "execution_count": 15,
   "id": "4709e396-4de7-450f-8bcc-67c38bb3d146",
   "metadata": {
    "tags": []
   },
   "outputs": [],
   "source": [
    "kmeans.labels_"
   ]
  },
  {
   "cell_type": "code",
   "execution_count": 17,
   "id": "90b7775d-a26c-46c1-a67e-681a14d4c2fb",
   "metadata": {
    "tags": []
   },
   "outputs": [],
   "source": [
    "df['Category'] = kmeans.labels_\n",
    "# df"
   ]
  },
  {
   "cell_type": "code",
   "execution_count": 21,
   "id": "92b14f32-7e14-45be-af78-32a7b45396d8",
   "metadata": {
    "tags": []
   },
   "outputs": [],
   "source": [
    "centroids = kmeans.cluster_centers_"
   ]
  },
  {
   "cell_type": "code",
   "execution_count": 22,
   "id": "aa89a9c4-19ed-4b19-9a2e-51a1f1401a5d",
   "metadata": {
    "tags": []
   },
   "outputs": [],
   "source": [
    "centroids_df = pd.DataFrame(centroids)\n",
    "# centroids_df.columns = X.columns\n",
    "# cenrtoids_df\n",
    "centroids_df.columns = X.columns\n",
    "centroids_df"
   ]
  },
  {
   "cell_type": "code",
   "execution_count": 24,
   "id": "989a1c0f-86da-4a90-ab33-9ff6d5e6d6ac",
   "metadata": {
    "tags": []
   },
   "outputs": [],
   "source": [
    "df"
   ]
  },
  {
   "cell_type": "code",
   "execution_count": 26,
   "id": "22eb4434-4b7b-4d7c-8a54-f85f4eccbc11",
   "metadata": {
    "tags": []
   },
   "outputs": [],
   "source": [
    "x = 'EBITDA Margin'\n",
    "y = 'Sales YoY'\n",
    "# plt.scatter(centroids[:,0], centroids[:,1], c = 'black', marker='x')\n",
    "plt.scatter(centroids_df[x], centroids_df[y], c = 'black', marker='x')\n",
    "plt.scatter(df[x], df[y], c = df['Category'], cmap =\"rainbow\") \n",
    "        # https://matplotlib.org/stable/tutorials/colors/colormaps.html\n",
    "plt.xlabel(x)\n",
    "plt.ylabel(y)\n",
    "plt.show()"
   ]
  },
  {
   "cell_type": "markdown",
   "id": "b7f2ceec-50be-4704-b121-0efe1a6dd366",
   "metadata": {},
   "source": [
    "## Decision Tree Demo\n",
    "- path to notebook: `~bogdan.tudose/python;rps:/jupyter/notebooks/lob/core/ADAPT_Pro/FinAnalysis/DecisionTreeDemo.ipynb`"
   ]
  },
  {
   "cell_type": "code",
   "execution_count": null,
   "id": "2b13cb0b-e708-4944-bdf4-ac695d51a9d7",
   "metadata": {},
   "outputs": [],
   "source": []
  }
 ],
 "metadata": {
  "header": "# Id:          $Id: $\n# Copyright:   2023 J.P. Morgan Chase & Co. Incorporated.  All rights reserved.\n# Type:        research\n# Group:       AthenaAnalystTraining\n# Flags:       py3\n# Description: Jupyter notebook created by bogdan.tudose\n\n",
  "kernelspec": {
   "display_name": "Athena 3.7",
   "language": "python",
   "name": "athena_py3"
  },
  "language_info": {
   "codemirror_mode": {
    "name": "ipython",
    "version": 3
   },
   "file_extension": ".py",
   "mimetype": "text/x-python",
   "name": "python",
   "nbconvert_exporter": "python",
   "pygments_lexer": "ipython3",
   "version": "3.7.9"
  }
 },
 "nbformat": 4,
 "nbformat_minor": 5
}