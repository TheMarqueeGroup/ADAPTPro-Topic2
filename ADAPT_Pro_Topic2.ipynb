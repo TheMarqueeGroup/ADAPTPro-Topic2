{
 "cells": [
  {
   "cell_type": "markdown",
   "id": "c5f9c194-6437-4de4-aca8-8bff389fd3a8",
   "metadata": {},
   "source": [
    "# ADAPT Pro - Topic 2 - Financial Analysis with Python"
   ]
  },
  {
   "cell_type": "markdown",
   "id": "646817dd-f619-473f-88f7-a5a71af3fd7b",
   "metadata": {},
   "source": [
    "**Before we get Started**\n",
    "\n",
    "- materials also on github: https://github.com/TheMarqueeGroup/ADAPTPro-Topic2/\n",
    "- run the getting started file:\n",
    "    - launch jupyter: `go/jupyter`\n",
    "    - `jupyter/notebooks/lob/core/ADAPT/GettingStarted.ipynb`\n",
    "- demo codes located in: `jupyter/notebooks/lob/core/ADAPT_Pro/FinAnalysis/`\n"
   ]
  },
  {
   "cell_type": "markdown",
   "id": "d56ee57b-75c0-4c15-9ad2-e74336d11567",
   "metadata": {},
   "source": [
    "## Linear Regressions with Python"
   ]
  },
  {
   "cell_type": "code",
   "execution_count": 2,
   "id": "784bd1ab-484d-4cae-a514-5938304b6266",
   "metadata": {
    "tags": []
   },
   "outputs": [],
   "source": [
    "import pandas as pd #data manipulation\n",
    "import matplotlib.pyplot as plt #viz package\n",
    "import numpy as np #more advanced math/stats formulas (that pandas doesn't have)\n",
    "import statsmodels.api as sm"
   ]
  },
  {
   "cell_type": "markdown",
   "id": "ea286fda-c9fd-4c2d-b4e7-bf40abc2cc78",
   "metadata": {},
   "source": [
    "### Linear Regression - Student Hours\n",
    "- linea regression that predicts the exam score of a student based off the # of hours studies"
   ]
  },
  {
   "cell_type": "code",
   "execution_count": 20,
   "id": "40245f2c-66b7-4d68-b4ee-6670bfcbb3fd",
   "metadata": {
    "tags": []
   },
   "outputs": [],
   "source": [
    "hours = [0, 5, 10, 2, 6, 5, 15, 4]\n",
    "scores = [25 + 5 * x for x in hours]\n",
    "df = pd.DataFrame({'Hours':hours,'Scores':scores})\n",
    "df"
   ]
  },
  {
   "cell_type": "code",
   "execution_count": 21,
   "id": "45a8d523-ab1a-45fa-a35f-9ccd997588a0",
   "metadata": {
    "tags": []
   },
   "outputs": [],
   "source": [
    "df.plot(x='Hours',y='Scores', kind='scatter')"
   ]
  },
  {
   "cell_type": "markdown",
   "id": "49df5da1-3057-481d-a9a6-04aa41142acc",
   "metadata": {},
   "source": [
    "**Steps to Running OLS Model (Linear Regression)**\n",
    "- model = sm.OLS(y, x)\n",
    "    - OLS = Ordinary Least Square\n",
    "    - minimizies the error terms (y predict vs y actual)\n",
    "        - takes the squares of errors, sum them up, and tries to minimize\n",
    "- fit the model, model.fit() - this runs the permutations to find line of best fit\n",
    "- start looking at the results, r2, p-values, coefficient, etc.\n",
    "- predict new results\n",
    "\n",
    "**Warning** - by default the OLS in statsmodels, assumes there is no y-intercept:\n",
    "- if x = 0 --> y = 0\n",
    "- if you want the model to have a y-intercept, provide a list of X's that are just 1s (constant)"
   ]
  },
  {
   "cell_type": "code",
   "execution_count": 22,
   "id": "d3b49c37-8c25-4b42-9a41-0b5361258f32",
   "metadata": {
    "tags": []
   },
   "outputs": [],
   "source": [
    "# model = sm.OLS(scores, hours) #lists\n",
    "model = sm.OLS(df['Scores'], df['Hours']) #pandas df col as inputs\n",
    "        #y, x they can be numpy arrays, lists, pandas columns, etc.\n",
    "results = model.fit()"
   ]
  },
  {
   "cell_type": "code",
   "execution_count": 24,
   "id": "be6956f1-8fdc-4bb7-8ac6-5c377d803933",
   "metadata": {
    "collapsed": true,
    "jupyter": {
     "outputs_hidden": true
    },
    "tags": []
   },
   "outputs": [],
   "source": [
    "results.summary()\n",
    "# results.summary2()\n",
    "    # y = 7.7262 * x"
   ]
  },
  {
   "cell_type": "code",
   "execution_count": 25,
   "id": "e9a8ebf9-96da-4a9b-8d3a-96d7fc49cf1d",
   "metadata": {
    "tags": []
   },
   "outputs": [],
   "source": [
    "# df['Predict'] = 7.7262 * df['Hours'] #not ideal, don't copy paste the coeff\n",
    "df['Predict'] = results.predict(df['Hours'])\n",
    "df"
   ]
  },
  {
   "cell_type": "code",
   "execution_count": 26,
   "id": "9f87b321-87a2-46c5-bb2e-1d76c491b177",
   "metadata": {
    "tags": []
   },
   "outputs": [],
   "source": [
    "results.predict(9.5)\n",
    "results.predict([9.5, 5.5, 10.25])"
   ]
  },
  {
   "cell_type": "code",
   "execution_count": 28,
   "id": "faa72dbf-1c12-4f29-b124-b9a50487005a",
   "metadata": {
    "tags": []
   },
   "outputs": [],
   "source": [
    "#Look at results\n",
    "plt.scatter(df['Hours'], df['Scores']) #actual - what really happened\n",
    "plt.plot(df['Hours'], df['Predict'], 'red') #linear regression model\n",
    "plt.show()"
   ]
  },
  {
   "cell_type": "markdown",
   "id": "55e247b5-bc61-4897-a3ca-57a190e6c67c",
   "metadata": {},
   "source": [
    "line equation:   y= mx + b\n",
    "   - m = slope\n",
    "   - b = intercept\n",
    "   - to \"force\" the model to show an intercept, come up with a dummy X for the b\n",
    "   \n",
    "y = coeff1 * x1 + coeff0 * x0\n",
    "- x0 = [1, 1,1 ,1 1, 1,1 ,1]\n",
    "- x1 = student hours matrix"
   ]
  },
  {
   "cell_type": "code",
   "execution_count": 30,
   "id": "3b02cb45-a1bc-406b-9a72-c2d0ffafac5a",
   "metadata": {
    "collapsed": true,
    "jupyter": {
     "outputs_hidden": true
    },
    "tags": []
   },
   "outputs": [],
   "source": [
    "df['Constant'] = 1\n",
    "model2 = sm.OLS(df['Scores'], df[['Constant','Hours']])\n",
    "results2 = model2.fit()\n",
    "results2.summary()"
   ]
  },
  {
   "cell_type": "code",
   "execution_count": 33,
   "id": "3e1a694d-4c9c-4d90-b34b-6311c5d52747",
   "metadata": {
    "collapsed": true,
    "jupyter": {
     "outputs_hidden": true
    },
    "tags": []
   },
   "outputs": [],
   "source": [
    "df['Predict2'] = results2.predict(df[['Constant','Hours']]) # \n",
    "df"
   ]
  },
  {
   "cell_type": "code",
   "execution_count": 35,
   "id": "5681afa0-fc49-41c6-82c2-565311205230",
   "metadata": {
    "tags": []
   },
   "outputs": [],
   "source": [
    "results2.predict([1, 5])\n",
    "results2.predict([[1, 5],[1,6],[1,7]])"
   ]
  },
  {
   "cell_type": "markdown",
   "id": "0888b680-1bf6-47ed-ada8-46f102022d03",
   "metadata": {},
   "source": [
    "### Linear Regression - Stock Beta Calc"
   ]
  },
  {
   "cell_type": "markdown",
   "id": "7475ffcd-8164-403b-8119-d43f1e27360e",
   "metadata": {},
   "source": [
    "capm\n",
    "- rStock = = rf + beta * MRP\n",
    "- MRP = returns of index - rf\n",
    "\n",
    "simplify ---> rf = 0\n",
    "- returns of Apple = beta * returns S&P"
   ]
  },
  {
   "cell_type": "code",
   "execution_count": 5,
   "id": "f00afb4c-53e5-416a-98e7-f023657ccd22",
   "metadata": {
    "tags": []
   },
   "outputs": [],
   "source": [
    "sp500 = pd.read_csv(\"ADAPT2021/StockData/SP500.csv\",parse_dates=['Date'],index_col=['Date'])\n",
    "aapl = pd.read_csv(\"ADAPT2021/StockData/AAPL.csv\",parse_dates=['Date'],index_col=['Date'])"
   ]
  },
  {
   "cell_type": "code",
   "execution_count": 6,
   "id": "0c1b6ca5-8637-4706-8ac1-794abbb299ad",
   "metadata": {
    "tags": []
   },
   "outputs": [],
   "source": [
    "aapl['Returns'] = aapl['Close'].pct_change() #daily returns\n",
    "sp500['Returns'] = sp500['Close'].pct_change()"
   ]
  },
  {
   "cell_type": "code",
   "execution_count": 7,
   "id": "9eabe453-6186-4b53-893f-019bacc1ce4a",
   "metadata": {
    "collapsed": true,
    "jupyter": {
     "outputs_hidden": true
    },
    "tags": []
   },
   "outputs": [],
   "source": [
    "mergedData = sp500.merge(aapl, how='inner',\n",
    "                         left_index=True, right_index=True,\n",
    "                         suffixes=(\"_SP\",\"_AAPL\"))  \n",
    "mergedData.dropna(inplace=True)\n",
    "    #same as: mergedData = mergedData.dropna()\n",
    "mergedData"
   ]
  },
  {
   "cell_type": "markdown",
   "id": "bf7890e6-b19f-48bb-9ffa-9a5738e5a097",
   "metadata": {},
   "source": [
    "### Running the CAPM Model"
   ]
  },
  {
   "cell_type": "code",
   "execution_count": 8,
   "id": "cda968e7-7c17-4daf-854d-e670dc6325a4",
   "metadata": {
    "tags": []
   },
   "outputs": [],
   "source": [
    "model = sm.OLS(mergedData['Returns_AAPL'], mergedData['Returns_SP']) #no y-intercept\n",
    "\n",
    "mergedData['Const'] = 1\n",
    "model2 = sm.OLS(mergedData['Returns_AAPL'], mergedData[['Const','Returns_SP']]) #with y-intercept"
   ]
  }
 ],
 "metadata": {
  "header": "# Id:          $Id: $\n# Copyright:   2023 J.P. Morgan Chase & Co. Incorporated.  All rights reserved.\n# Type:        research\n# Group:       AthenaAnalystTraining\n# Flags:       py3\n# Description: Jupyter notebook created by bogdan.tudose\n\n",
  "kernelspec": {
   "display_name": "Athena 3.7",
   "language": "python",
   "name": "athena_py3"
  },
  "language_info": {
   "codemirror_mode": {
    "name": "ipython",
    "version": 3
   },
   "file_extension": ".py",
   "mimetype": "text/x-python",
   "name": "python",
   "nbconvert_exporter": "python",
   "pygments_lexer": "ipython3",
   "version": "3.7.9"
  }
 },
 "nbformat": 4,
 "nbformat_minor": 5
}